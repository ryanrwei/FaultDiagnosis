{
 "cells": [
  {
   "cell_type": "code",
   "execution_count": 1,
   "id": "523aeafa",
   "metadata": {},
   "outputs": [],
   "source": [
    "import numpy as np\n",
    "import matplotlib.pyplot as plt\n",
    "from matplotlib import pyplot\n",
    "\n",
    "from pyts.datasets import load_gunpoint\n",
    "from pyts.transformation import ShapeletTransform\n",
    "from pyts.classification import LearningShapelets\n",
    "\n",
    "import os\n",
    "import pandas as pd\n",
    "from sklearn.model_selection import train_test_split\n",
    "from sklearn.metrics import accuracy_score, confusion_matrix\n",
    "from sklearn import metrics\n",
    "\n",
    "import time"
   ]
  },
  {
   "cell_type": "code",
   "execution_count": 2,
   "id": "feb1d069",
   "metadata": {},
   "outputs": [],
   "source": [
    "def normalization_1(data):\n",
    "    \n",
    "    data_mean = np.mean(data,0)   #(72,)\n",
    "    data_std = np.std(data,0,ddof=1) \n",
    "    data_ = (data - data_mean)/data_std\n",
    "    \n",
    "    return data_, data_mean , data_std"
   ]
  },
  {
   "cell_type": "code",
   "execution_count": 3,
   "id": "ecc4b958",
   "metadata": {},
   "outputs": [],
   "source": [
    "def transpose_for_shapelet(x):\n",
    "    x = x.reshape([-1, 52])\n",
    "    x, _, _ = normalization_1(x)\n",
    "\n",
    "    train_feature_T = []\n",
    "    train_lable_T = []\n",
    "\n",
    "    for i in range(int(x.shape[0]//300)):\n",
    "        tep = x[i*300: (i+1)*300].T\n",
    "        train_feature_T.append(tep)\n",
    "\n",
    "        label = np.ones(tep.shape[0])*i\n",
    "        train_lable_T.append(label)\n",
    "\n",
    "    train_feature_T = np.array(train_feature_T).reshape([-1, 300])\n",
    "    train_lable_T = np.array(train_lable_T).reshape([-1])\n",
    "    \n",
    "    return train_feature_T, train_lable_T"
   ]
  },
  {
   "cell_type": "code",
   "execution_count": 4,
   "id": "31ddde72",
   "metadata": {},
   "outputs": [
    {
     "name": "stdout",
     "output_type": "stream",
     "text": [
      "故障類別數，某一故障+正常，序列長度，變量數:  (20, 300, 52)\n",
      "故障數據---故障類別，序列長度，變量數:  (20, 300, 52)\n"
     ]
    }
   ],
   "source": [
    "filedir = \"tep_train\"\n",
    "filenames = []\n",
    "train_feature = []\n",
    "\n",
    "for filename in os.listdir(filedir):\n",
    "    filenames.append(os.path.join(filedir,filename))\n",
    "    \n",
    "filenames = [\n",
    "'tep_test\\\\d01_te.dat', 'tep_test\\\\d02_te.dat', 'tep_test\\\\d03_te.dat', 'tep_test\\\\d04_te.dat', \n",
    "'tep_test\\\\d05_te.dat', 'tep_test\\\\d06_te.dat', 'tep_test\\\\d07_te.dat', 'tep_test\\\\d08_te.dat', \n",
    "\n",
    "'tep_test\\\\d10_te.dat', 'tep_test\\\\d11_te.dat', 'tep_test\\\\d12_te.dat', 'tep_test\\\\d13_te.dat', \n",
    "'tep_test\\\\d14_te.dat', 'tep_test\\\\d15_te.dat', 'tep_test\\\\d16_te.dat', 'tep_test\\\\d17_te.dat', \n",
    "'tep_test\\\\d18_te.dat', 'tep_test\\\\d19_te.dat', 'tep_test\\\\d20_te.dat', 'tep_test\\\\d21_te.dat'\n",
    "]\n",
    "\n",
    "for i in range(len(filenames)):\n",
    "    train_feature_single = []\n",
    "    \n",
    "    tep = np.genfromtxt(filenames[i])[160:160+300]\n",
    "    train_feature_single.append(tep)\n",
    "    train_feature_single = np.array(train_feature_single)\n",
    "    train_feature.append(train_feature_single)\n",
    "    \n",
    "train_feature = np.array(train_feature).reshape([len(filenames), tep.shape[0], tep.shape[1]])\n",
    "\n",
    "TEPs_fault = train_feature[:,:,:]"
   ]
  },
  {
   "cell_type": "code",
   "execution_count": 6,
   "id": "a5a86efc",
   "metadata": {},
   "outputs": [
    {
     "name": "stdout",
     "output_type": "stream",
     "text": [
      "(1040, 300)\n",
      "(1040,)\n"
     ]
    }
   ],
   "source": [
    "train_feature_T, train_lable_T = transpose_for_shapelet(train_feature)\n"
   ]
  },
  {
   "cell_type": "code",
   "execution_count": 7,
   "id": "755481c4",
   "metadata": {},
   "outputs": [],
   "source": [
    "def st_fitting(x, y, n_shapelets_, window_sizes_):\n",
    "    \n",
    "    st = ShapeletTransform(n_shapelets = n_shapelets_,\n",
    "                           window_sizes = window_sizes_,\n",
    "                           random_state = 42, sort=True,\n",
    "                           n_jobs = -1, remove_similar = True\n",
    "                          )\n",
    "    x_new = st.fit_transform(x, y)\n",
    "\n",
    "    return st"
   ]
  },
  {
   "cell_type": "code",
   "execution_count": 8,
   "id": "a811722d",
   "metadata": {
    "scrolled": true
   },
   "outputs": [],
   "source": [
    "selected_length = int(300*0.9)"
   ]
  },
  {
   "cell_type": "code",
   "execution_count": 9,
   "id": "1d5a16f5",
   "metadata": {},
   "outputs": [
    {
     "name": "stdout",
     "output_type": "stream",
     "text": [
      "time cost 289.9020872116089 s\n"
     ]
    }
   ],
   "source": [
    "time_start = time.time()\n",
    "train_st = st_fitting(train_feature_T, train_lable_T, 10000, [selected_length])\n",
    "time_end = time.time()\n",
    "print('time cost',time_end-time_start,'s')"
   ]
  },
  {
   "cell_type": "code",
   "execution_count": 10,
   "id": "3e44980b",
   "metadata": {},
   "outputs": [],
   "source": [
    "folder = \"TEP_shapelet_preprocess_ValSet_AllFault_win0.9-1/\"\n",
    "\n",
    "if not os.path.isdir(folder):\n",
    "    os.mkdir(folder)"
   ]
  },
  {
   "cell_type": "code",
   "execution_count": 11,
   "id": "dfb11dec",
   "metadata": {},
   "outputs": [],
   "source": [
    "folder = \"TEP_shapelet_preprocess_ValSet_AllFault_win0.9-1/\"\n",
    "np.save(folder + 'val_index', train_st.indices_) "
   ]
  },
  {
   "cell_type": "code",
   "execution_count": 12,
   "id": "a988ce2b",
   "metadata": {},
   "outputs": [
    {
     "name": "stdout",
     "output_type": "stream",
     "text": [
      "['TEP_shapelet_preprocess_ValSet_AllFault_win0.9-1\\\\val_index.npy']\n",
      "(1040, 3)\n"
     ]
    }
   ],
   "source": [
    "filedir = \"TEP_shapelet_preprocess_ValSet_AllFault_win0.9-1\"\n",
    "\n",
    "filenames = []\n",
    "train_feature = []\n",
    "\n",
    "for filename in os.listdir(filedir):\n",
    "    filenames.append(os.path.join(filedir,filename))\n",
    "    \n",
    "print(filenames)\n",
    "\n",
    "fault_index = np.load(filenames[0]) \n",
    "print(fault_index.shape)"
   ]
  },
  {
   "cell_type": "code",
   "execution_count": 13,
   "id": "b1bc97fb",
   "metadata": {},
   "outputs": [
    {
     "data": {
      "text/plain": [
       "array([[315,   1, 271],\n",
       "       [344,   2, 272],\n",
       "       [476,  25, 295],\n",
       "       ...,\n",
       "       [ 98,  20, 290],\n",
       "       [309,  24, 294],\n",
       "       [297,   1, 271]], dtype=int64)"
      ]
     },
     "execution_count": 13,
     "metadata": {},
     "output_type": "execute_result"
    }
   ],
   "source": [
    "fault_index"
   ]
  },
  {
   "cell_type": "code",
   "execution_count": 14,
   "id": "aee38d6b",
   "metadata": {},
   "outputs": [],
   "source": [
    "fault_index_1 = []\n",
    "fault_index_2 = []\n",
    "fault_index_3 = []\n",
    "fault_index_4 = []\n",
    "fault_index_5 = []\n",
    "fault_index_6 = []\n",
    "fault_index_7 = []\n",
    "fault_index_8 = []\n",
    "fault_index_9 = []\n",
    "fault_index_10 = []\n",
    "fault_index_11 = []\n",
    "fault_index_12 = []\n",
    "fault_index_13 = []\n",
    "fault_index_14 = []\n",
    "fault_index_15 = []\n",
    "fault_index_16 = []\n",
    "fault_index_17 = []\n",
    "fault_index_18 = []\n",
    "fault_index_19 = []\n",
    "fault_index_20 = []\n",
    "\n",
    "for i in range(len(fault_index)):\n",
    "    index_ = int(fault_index[i, 0]//52)\n",
    "    if index_ == 0: fault_index_1.append(fault_index[i])\n",
    "    elif index_ == 1: fault_index_2.append(fault_index[i])\n",
    "    elif index_ == 2: fault_index_3.append(fault_index[i])        \n",
    "    elif index_ == 3: fault_index_4.append(fault_index[i])        \n",
    "    elif index_ == 4: fault_index_5.append(fault_index[i])\n",
    "    elif index_ == 5: fault_index_6.append(fault_index[i])\n",
    "    elif index_ == 6: fault_index_7.append(fault_index[i])\n",
    "    elif index_ == 7: fault_index_8.append(fault_index[i])\n",
    "    elif index_ == 8: fault_index_9.append(fault_index[i])        \n",
    "    elif index_ == 9: fault_index_10.append(fault_index[i])        \n",
    "    elif index_ == 10: fault_index_11.append(fault_index[i])\n",
    "    elif index_ == 11: fault_index_12.append(fault_index[i])\n",
    "    elif index_ == 12: fault_index_13.append(fault_index[i])\n",
    "    elif index_ == 13: fault_index_14.append(fault_index[i])\n",
    "    elif index_ == 14: fault_index_15.append(fault_index[i])\n",
    "    elif index_ == 15: fault_index_16.append(fault_index[i])\n",
    "    elif index_ == 16: fault_index_17.append(fault_index[i])\n",
    "    elif index_ == 17: fault_index_18.append(fault_index[i])\n",
    "    elif index_ == 18: fault_index_19.append(fault_index[i])\n",
    "    elif index_ == 19: fault_index_20.append(fault_index[i])\n",
    "        \n",
    "fault_index_1 = np.array(fault_index_1)\n",
    "fault_index_2 = np.array(fault_index_2)\n",
    "fault_index_3 = np.array(fault_index_3)\n",
    "fault_index_4 = np.array(fault_index_4)\n",
    "fault_index_5 = np.array(fault_index_5)\n",
    "fault_index_6 = np.array(fault_index_6)\n",
    "fault_index_7 = np.array(fault_index_7)\n",
    "fault_index_8 = np.array(fault_index_8)\n",
    "fault_index_9 = np.array(fault_index_9)\n",
    "fault_index_10 = np.array(fault_index_10)\n",
    "fault_index_11 = np.array(fault_index_11)\n",
    "fault_index_12 = np.array(fault_index_12)\n",
    "fault_index_13 = np.array(fault_index_13)\n",
    "fault_index_14 = np.array(fault_index_14)\n",
    "fault_index_15 = np.array(fault_index_15)\n",
    "fault_index_16 = np.array(fault_index_16)\n",
    "fault_index_17 = np.array(fault_index_17)\n",
    "fault_index_18 = np.array(fault_index_18)\n",
    "fault_index_19 = np.array(fault_index_19)\n",
    "fault_index_20 = np.array(fault_index_20)\n",
    "\n",
    "fault_index_all = []\n",
    "\n",
    "fault_index_all.append(fault_index_1)\n",
    "fault_index_all.append(fault_index_2)\n",
    "fault_index_all.append(fault_index_3)\n",
    "fault_index_all.append(fault_index_4)\n",
    "fault_index_all.append(fault_index_5)\n",
    "fault_index_all.append(fault_index_6)\n",
    "fault_index_all.append(fault_index_7)\n",
    "fault_index_all.append(fault_index_8)\n",
    "fault_index_all.append(fault_index_9)\n",
    "fault_index_all.append(fault_index_10)\n",
    "fault_index_all.append(fault_index_11)\n",
    "fault_index_all.append(fault_index_12)\n",
    "fault_index_all.append(fault_index_13)\n",
    "fault_index_all.append(fault_index_14)\n",
    "fault_index_all.append(fault_index_15)\n",
    "fault_index_all.append(fault_index_16)\n",
    "fault_index_all.append(fault_index_17)\n",
    "fault_index_all.append(fault_index_18)\n",
    "fault_index_all.append(fault_index_19)\n",
    "fault_index_all.append(fault_index_20)\n",
    "\n",
    "# print(fault_index_1.shape)\n",
    "# print(fault_index_2.shape)\n",
    "# print(fault_index_3.shape)\n",
    "# print(fault_index_4.shape)\n",
    "# print(fault_index_5.shape)\n",
    "# print(fault_index_6.shape)\n",
    "# print(fault_index_7.shape)\n",
    "# print(fault_index_8.shape)\n",
    "# print(fault_index_9.shape)\n",
    "# print(fault_index_10.shape)\n",
    "# print(fault_index_11.shape)\n",
    "# print(fault_index_12.shape)\n",
    "# print(fault_index_13.shape)\n",
    "# print(fault_index_14.shape)\n",
    "# print(fault_index_15.shape)\n",
    "# print(fault_index_16.shape)\n",
    "# print(fault_index_17.shape)\n",
    "# print(fault_index_18.shape)\n",
    "# print(fault_index_19.shape)\n",
    "# print(fault_index_20.shape)"
   ]
  },
  {
   "cell_type": "code",
   "execution_count": 15,
   "id": "678f6564",
   "metadata": {},
   "outputs": [],
   "source": [
    "def np_unranked_unique(nparray):\n",
    "    n_unique = len(np.unique(nparray))\n",
    "    ranked_unique = np.zeros([n_unique])\n",
    "    i = 0\n",
    "    for x in nparray:\n",
    "        if x not in ranked_unique:\n",
    "            ranked_unique[i] = x\n",
    "            i += 1\n",
    "    return ranked_unique"
   ]
  },
  {
   "cell_type": "code",
   "execution_count": 16,
   "id": "5d09ab0f",
   "metadata": {},
   "outputs": [],
   "source": [
    "def index_selection(indices_input):\n",
    "    indices = indices_input\n",
    "    \n",
    "    selected_index = []\n",
    "\n",
    "    for i in range(len(indices)):        \n",
    "#         if indices[i,0] >= 52:\n",
    "        selected_index.append(indices[i])\n",
    "        \n",
    "    selected_index = np.array(selected_index)\n",
    "#     selected_index_sort = np.sort(selected_index, axis=0)\n",
    "    \n",
    "    selected_start = selected_index[:,1]\n",
    "    selected_start = np_unranked_unique(selected_start)\n",
    "    \n",
    "    time_point_select_start = int(selected_start[0])\n",
    "    time_point_select_end = int(selected_start[0] + selected_length)\n",
    "    \n",
    "    return time_point_select_start, time_point_select_end"
   ]
  },
  {
   "cell_type": "code",
   "execution_count": 17,
   "id": "33bb1dde",
   "metadata": {},
   "outputs": [],
   "source": [
    "def tep_fault_selection(tep_fault, time_point_select_start, time_point_select_end):\n",
    "    selected_tep_fault = []\n",
    "    \n",
    "    selected_tep_fault.append(tep_fault[time_point_select_start: time_point_select_end])\n",
    "    selected_tep_fault = np.array(selected_tep_fault).reshape([1, -1, TEPs_fault.shape[-1]])\n",
    "    \n",
    "    return selected_tep_fault"
   ]
  },
  {
   "cell_type": "code",
   "execution_count": 18,
   "id": "dbca4ee7",
   "metadata": {},
   "outputs": [],
   "source": [
    "folder = 'TEP_shapelet_preprocess_ValSet_AllFault_win0.9-2/'\n",
    "\n",
    "if not os.path.isdir(folder):\n",
    "    os.mkdir(folder)"
   ]
  },
  {
   "cell_type": "code",
   "execution_count": 19,
   "id": "2a717475",
   "metadata": {},
   "outputs": [
    {
     "data": {
      "text/plain": [
       "20"
      ]
     },
     "execution_count": 19,
     "metadata": {},
     "output_type": "execute_result"
    }
   ],
   "source": [
    "len(fault_index_all)"
   ]
  },
  {
   "cell_type": "code",
   "execution_count": 20,
   "id": "2fe4d7c8",
   "metadata": {},
   "outputs": [
    {
     "name": "stdout",
     "output_type": "stream",
     "text": [
      "(1, 270, 52)\n",
      "(1, 270, 52)\n",
      "(1, 270, 52)\n",
      "(1, 270, 52)\n",
      "(1, 270, 52)\n",
      "(1, 270, 52)\n",
      "(1, 270, 52)\n",
      "(1, 270, 52)\n",
      "(1, 270, 52)\n",
      "(1, 270, 52)\n",
      "(1, 270, 52)\n",
      "(1, 270, 52)\n",
      "(1, 270, 52)\n",
      "(1, 270, 52)\n",
      "(1, 270, 52)\n",
      "(1, 270, 52)\n",
      "(1, 270, 52)\n",
      "(1, 270, 52)\n",
      "(1, 270, 52)\n",
      "(1, 270, 52)\n"
     ]
    }
   ],
   "source": [
    "selected_TEPs_fault = []\n",
    "\n",
    "for i in range(len(fault_index_all)):\n",
    "    tep_fault = TEPs_fault[i]\n",
    "    indices = fault_index_all[i]\n",
    "    \n",
    "    time_point_select_start, time_point_select_end = index_selection(indices)\n",
    "    selected_tep_fault = tep_fault_selection(tep_fault, time_point_select_start, time_point_select_end)\n",
    "    print(selected_tep_fault.shape)\n",
    "    \n",
    "#     break\n",
    "    \n",
    "    if i <= 9: i = '0' + str(i)\n",
    "        \n",
    "    save_name = folder + 'val_selected_tep_fault' + str(i)\n",
    "    \n",
    "    np.save(save_name, selected_tep_fault) "
   ]
  }
 ],
 "metadata": {
  "kernelspec": {
   "display_name": "Python 3",
   "language": "python",
   "name": "python3"
  },
  "language_info": {
   "codemirror_mode": {
    "name": "ipython",
    "version": 3
   },
   "file_extension": ".py",
   "mimetype": "text/x-python",
   "name": "python",
   "nbconvert_exporter": "python",
   "pygments_lexer": "ipython3",
   "version": "3.6.13"
  }
 },
 "nbformat": 4,
 "nbformat_minor": 5
}

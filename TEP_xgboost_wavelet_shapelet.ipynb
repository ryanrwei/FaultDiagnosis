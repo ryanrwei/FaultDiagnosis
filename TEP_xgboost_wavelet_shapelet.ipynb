{
 "cells": [
  {
   "cell_type": "code",
   "execution_count": 1,
   "id": "1cbef496",
   "metadata": {},
   "outputs": [],
   "source": [
    "import xgboost as xgb\n",
    "from xgboost.sklearn import XGBClassifier\n",
    "from xgboost import plot_importance\n",
    "from xgboost import cv\n",
    "import pywt\n",
    "\n",
    "import numpy as np\n",
    "import matplotlib.pyplot as plt\n",
    "from matplotlib import pyplot\n",
    "import os\n",
    "import pandas as pd\n",
    "from sklearn.model_selection import train_test_split\n",
    "from sklearn.metrics import accuracy_score, confusion_matrix\n",
    "from sklearn import metrics\n",
    "from scipy import stats\n",
    "\n",
    "import time\n",
    "\n",
    "os.environ[\"CUDA_VISIBLE_DEVICES\"] = \"0\" "
   ]
  },
  {
   "cell_type": "code",
   "execution_count": 2,
   "id": "c9d83ee3",
   "metadata": {},
   "outputs": [],
   "source": [
    "def normalization_1(data):\n",
    "    \n",
    "    data_mean = np.mean(data,0)   #(72,)\n",
    "    data_std = np.std(data,0,ddof=1) \n",
    "    data_ = (data - data_mean)/data_std\n",
    "    \n",
    "    return data_, data_mean , data_std"
   ]
  },
  {
   "cell_type": "code",
   "execution_count": 3,
   "id": "ad76de0b",
   "metadata": {},
   "outputs": [],
   "source": [
    "def normalization_2(data):\n",
    "    \n",
    "    data_min = np.min(data, 0)\n",
    "    data_max = np.max(data, 0) \n",
    "    data_ = (data - data_min) / (data_max - data_min + 1e-7)\n",
    "    \n",
    "    return data_, data_min , data_max"
   ]
  },
  {
   "cell_type": "code",
   "execution_count": 4,
   "id": "375d7bed",
   "metadata": {},
   "outputs": [],
   "source": [
    "#one hot code\n",
    "def to_categorical(y, num_classes=None):\n",
    "    y = np.array(y, dtype='int')\n",
    "    input_shape = y.shape\n",
    "    if input_shape and input_shape[-1] == 1 and len(input_shape) > 1:\n",
    "        input_shape = tuple(input_shape[:-1])\n",
    "    y = y.ravel()\n",
    "    if not num_classes:\n",
    "        num_classes = np.max(y) + 1\n",
    "    n = y.shape[0]\n",
    "    categorical = np.zeros((n, num_classes))\n",
    "    categorical[np.arange(n), y] = 1\n",
    "    output_shape = input_shape + (num_classes,)\n",
    "    categorical = np.reshape(categorical, output_shape)\n",
    "    return categorical"
   ]
  },
  {
   "cell_type": "code",
   "execution_count": 5,
   "id": "055f0c1e",
   "metadata": {},
   "outputs": [],
   "source": [
    "# one hot code\n",
    "def one_hot ( labels , Label_class ):\n",
    "    one_hot_label = np.array([[ int (i == int (labels[j])) for i in range (Label_class)] for j in range ( len (labels))])      \n",
    "    return one_hot_label"
   ]
  },
  {
   "cell_type": "code",
   "execution_count": 6,
   "id": "ab74bcca",
   "metadata": {},
   "outputs": [],
   "source": [
    "def add_window_wavelet(x, time_step, level_):\n",
    "    \n",
    "    x_window = []\n",
    "\n",
    "    for i in range(x.shape[0]):\n",
    "        series = x[i]\n",
    "        series_window = []\n",
    "        for j in range(int(series.shape[0]-time_step)):\n",
    "            dat = series[j: j+time_step]\n",
    "            fre_msg_var = []\n",
    "            for k in range(dat.shape[-1]): #var_num\n",
    "\n",
    "                coeffs = pywt.wavedec(dat[:,k], 'db1', level = level_, mode='sym')\n",
    "\n",
    "                fre_msg_ = []\n",
    "                for i in coeffs: # num_level * 3(mean + std + kurtosis)\n",
    "                    fre_msg_.append(np.mean(i, 0))\n",
    "                    fre_msg_.append(np.std(i, 0, ddof=1))\n",
    "                    fre_msg_.append(stats.kurtosis(i))\n",
    "                fre_msg_var.append(fre_msg_)\n",
    "\n",
    "            fre_msg_var = np.array(fre_msg_var)\n",
    "\n",
    "            series_window.append(fre_msg_var.reshape([-1]))\n",
    "        x_window.append(series_window)\n",
    "        \n",
    "    return np.array(x_window)"
   ]
  },
  {
   "cell_type": "code",
   "execution_count": 7,
   "id": "6bbfcdc3",
   "metadata": {},
   "outputs": [],
   "source": [
    "def label_add_window(x, time_step):\n",
    "    \n",
    "    x_window = []\n",
    "\n",
    "    for i in range(x.shape[0]):\n",
    "        series = x[i]\n",
    "        series_window = []\n",
    "        for j in range(int(series.shape[0]-time_step)):\n",
    "            dat = series[j: j+time_step]\n",
    "            series_window.append(dat[0])\n",
    "        x_window.append(series_window)\n",
    "    \n",
    "    return np.array(x_window)"
   ]
  },
  {
   "cell_type": "code",
   "execution_count": 8,
   "id": "d2b84666",
   "metadata": {},
   "outputs": [],
   "source": [
    "folder = 'TEP_shapelet_preprocess_TrainSet_AllFault_win432/'\n",
    "\n",
    "if not os.path.isdir(folder):\n",
    "    os.mkdir(folder)"
   ]
  },
  {
   "cell_type": "markdown",
   "id": "3e6c2e53",
   "metadata": {},
   "source": [
    "# Training set"
   ]
  },
  {
   "cell_type": "code",
   "execution_count": 9,
   "id": "1201e63c",
   "metadata": {},
   "outputs": [],
   "source": [
    "num_var = 52\n",
    "time_step = 110\n",
    "level = 9"
   ]
  },
  {
   "cell_type": "code",
   "execution_count": 10,
   "id": "94b82093",
   "metadata": {
    "scrolled": true
   },
   "outputs": [
    {
     "name": "stdout",
     "output_type": "stream",
     "text": [
      "故障類別數:  20\n",
      "['TEP_shapelet_preprocess_TrainSet_AllFault_win432-2\\\\train_selected_tep_fault00.npy', 'TEP_shapelet_preprocess_TrainSet_AllFault_win432-2\\\\train_selected_tep_fault01.npy', 'TEP_shapelet_preprocess_TrainSet_AllFault_win432-2\\\\train_selected_tep_fault02.npy', 'TEP_shapelet_preprocess_TrainSet_AllFault_win432-2\\\\train_selected_tep_fault03.npy', 'TEP_shapelet_preprocess_TrainSet_AllFault_win432-2\\\\train_selected_tep_fault04.npy', 'TEP_shapelet_preprocess_TrainSet_AllFault_win432-2\\\\train_selected_tep_fault05.npy', 'TEP_shapelet_preprocess_TrainSet_AllFault_win432-2\\\\train_selected_tep_fault06.npy', 'TEP_shapelet_preprocess_TrainSet_AllFault_win432-2\\\\train_selected_tep_fault07.npy', 'TEP_shapelet_preprocess_TrainSet_AllFault_win432-2\\\\train_selected_tep_fault08.npy', 'TEP_shapelet_preprocess_TrainSet_AllFault_win432-2\\\\train_selected_tep_fault09.npy', 'TEP_shapelet_preprocess_TrainSet_AllFault_win432-2\\\\train_selected_tep_fault10.npy', 'TEP_shapelet_preprocess_TrainSet_AllFault_win432-2\\\\train_selected_tep_fault11.npy', 'TEP_shapelet_preprocess_TrainSet_AllFault_win432-2\\\\train_selected_tep_fault12.npy', 'TEP_shapelet_preprocess_TrainSet_AllFault_win432-2\\\\train_selected_tep_fault13.npy', 'TEP_shapelet_preprocess_TrainSet_AllFault_win432-2\\\\train_selected_tep_fault14.npy', 'TEP_shapelet_preprocess_TrainSet_AllFault_win432-2\\\\train_selected_tep_fault15.npy', 'TEP_shapelet_preprocess_TrainSet_AllFault_win432-2\\\\train_selected_tep_fault16.npy', 'TEP_shapelet_preprocess_TrainSet_AllFault_win432-2\\\\train_selected_tep_fault17.npy', 'TEP_shapelet_preprocess_TrainSet_AllFault_win432-2\\\\train_selected_tep_fault18.npy', 'TEP_shapelet_preprocess_TrainSet_AllFault_win432-2\\\\train_selected_tep_fault19.npy']\n"
     ]
    },
    {
     "name": "stderr",
     "output_type": "stream",
     "text": [
      "C:\\Users\\WIN10\\anaconda3\\envs\\tf1.12\\lib\\site-packages\\pywt\\_multilevel.py:45: UserWarning: Level value of 9 is too high: all coefficients will experience boundary effects.\n",
      "  \"boundary effects.\").format(level))\n",
      "C:\\Users\\WIN10\\anaconda3\\envs\\tf1.12\\lib\\site-packages\\numpy\\core\\_methods.py:234: RuntimeWarning: Degrees of freedom <= 0 for slice\n",
      "  keepdims=keepdims)\n",
      "C:\\Users\\WIN10\\anaconda3\\envs\\tf1.12\\lib\\site-packages\\numpy\\core\\_methods.py:226: RuntimeWarning: invalid value encountered in double_scalars\n",
      "  ret = ret.dtype.type(ret / rcount)\n"
     ]
    },
    {
     "name": "stdout",
     "output_type": "stream",
     "text": [
      "(333, 1560)\n",
      "(350, 1560)\n",
      "(348, 1560)\n",
      "(354, 1560)\n",
      "(359, 1560)\n",
      "(366, 1560)\n",
      "(342, 1560)\n",
      "(342, 1560)\n",
      "(351, 1560)\n",
      "(342, 1560)\n",
      "(327, 1560)\n",
      "(335, 1560)\n",
      "(364, 1560)\n",
      "(367, 1560)\n",
      "(346, 1560)\n",
      "(342, 1560)\n",
      "(331, 1560)\n",
      "(352, 1560)\n",
      "(353, 1560)\n",
      "(357, 1560)\n",
      "(6961, 1560)\n",
      "(6961,)\n",
      "time cost 787.6052718162537 s\n"
     ]
    }
   ],
   "source": [
    "filedir = \"TEP_shapelet_preprocess_TrainSet_AllFault_win432-2\"\n",
    "filenames = []\n",
    "\n",
    "for filename in os.listdir(filedir):\n",
    "    filenames.append(os.path.join(filedir,filename))\n",
    "\n",
    "time_start = time.time()\n",
    "\n",
    "for i in range(len(filenames)):\n",
    "    tep_shapelet = np.load(filenames[i]) #(num_shapelet, series_length, num_var) \n",
    "    tep_shapelet_wavelet = add_window_wavelet(tep_shapelet, time_step, level)  #[num_shapelet, (series_length - window_size), (num_var*(num_level+1)*3) ]\n",
    "    tep_shapelet_wavelet = tep_shapelet_wavelet.reshape([-1, num_var*(level+1)*3 ])\n",
    "    label = np.ones(len(tep_shapelet_wavelet))*i\n",
    "    print(tep_shapelet_wavelet.shape)\n",
    "    \n",
    "    if i == 0: \n",
    "        feature_train = tep_shapelet_wavelet\n",
    "        label_train = label\n",
    "    else: \n",
    "        feature_train = np.concatenate((feature_train, tep_shapelet_wavelet), 0)\n",
    "        label_train = np.concatenate((label_train, label), 0)\n",
    "    \n",
    "print(feature_train.shape)\n",
    "print(label_train.shape)\n",
    "time_end = time.time()\n",
    "print('time cost',time_end-time_start,'s')"
   ]
  },
  {
   "cell_type": "code",
   "execution_count": 11,
   "id": "e50cc465",
   "metadata": {},
   "outputs": [],
   "source": [
    "train_x = feature_train\n",
    "train_y = label_train\n",
    "\n",
    "np.save(folder + 'train_x', train_x) \n",
    "np.save(folder + 'train_y', train_y) "
   ]
  },
  {
   "cell_type": "markdown",
   "id": "dad9cc23",
   "metadata": {},
   "source": [
    "# Val set"
   ]
  },
  {
   "cell_type": "code",
   "execution_count": 12,
   "id": "05c3293c",
   "metadata": {
    "scrolled": true
   },
   "outputs": [
    {
     "name": "stdout",
     "output_type": "stream",
     "text": [
      "故障類別數:  20\n",
      "['TEP_shapelet_preprocess_ValSet_AllFault_win180-2\\\\val_selected_tep_fault00.npy', 'TEP_shapelet_preprocess_ValSet_AllFault_win180-2\\\\val_selected_tep_fault01.npy', 'TEP_shapelet_preprocess_ValSet_AllFault_win180-2\\\\val_selected_tep_fault02.npy', 'TEP_shapelet_preprocess_ValSet_AllFault_win180-2\\\\val_selected_tep_fault03.npy', 'TEP_shapelet_preprocess_ValSet_AllFault_win180-2\\\\val_selected_tep_fault04.npy', 'TEP_shapelet_preprocess_ValSet_AllFault_win180-2\\\\val_selected_tep_fault05.npy', 'TEP_shapelet_preprocess_ValSet_AllFault_win180-2\\\\val_selected_tep_fault06.npy', 'TEP_shapelet_preprocess_ValSet_AllFault_win180-2\\\\val_selected_tep_fault07.npy', 'TEP_shapelet_preprocess_ValSet_AllFault_win180-2\\\\val_selected_tep_fault08.npy', 'TEP_shapelet_preprocess_ValSet_AllFault_win180-2\\\\val_selected_tep_fault09.npy', 'TEP_shapelet_preprocess_ValSet_AllFault_win180-2\\\\val_selected_tep_fault10.npy', 'TEP_shapelet_preprocess_ValSet_AllFault_win180-2\\\\val_selected_tep_fault11.npy', 'TEP_shapelet_preprocess_ValSet_AllFault_win180-2\\\\val_selected_tep_fault12.npy', 'TEP_shapelet_preprocess_ValSet_AllFault_win180-2\\\\val_selected_tep_fault13.npy', 'TEP_shapelet_preprocess_ValSet_AllFault_win180-2\\\\val_selected_tep_fault14.npy', 'TEP_shapelet_preprocess_ValSet_AllFault_win180-2\\\\val_selected_tep_fault15.npy', 'TEP_shapelet_preprocess_ValSet_AllFault_win180-2\\\\val_selected_tep_fault16.npy', 'TEP_shapelet_preprocess_ValSet_AllFault_win180-2\\\\val_selected_tep_fault17.npy', 'TEP_shapelet_preprocess_ValSet_AllFault_win180-2\\\\val_selected_tep_fault18.npy', 'TEP_shapelet_preprocess_ValSet_AllFault_win180-2\\\\val_selected_tep_fault19.npy']\n",
      "(103, 1560)\n",
      "(83, 1560)\n",
      "(161, 1560)\n",
      "(142, 1560)\n",
      "(110, 1560)\n",
      "(174, 1560)\n",
      "(105, 1560)\n",
      "(131, 1560)\n",
      "(111, 1560)\n",
      "(119, 1560)\n",
      "(135, 1560)\n",
      "(95, 1560)\n",
      "(118, 1560)\n",
      "(117, 1560)\n",
      "(150, 1560)\n",
      "(143, 1560)\n",
      "(120, 1560)\n",
      "(149, 1560)\n",
      "(125, 1560)\n",
      "(101, 1560)\n",
      "(2492, 1560)\n",
      "(2492,)\n",
      "time cost 239.98247241973877 s\n"
     ]
    }
   ],
   "source": [
    "filedir = \"TEP_shapelet_preprocess_ValSet_AllFault_win180-2\"\n",
    "filenames = []\n",
    "\n",
    "for filename in os.listdir(filedir):\n",
    "    filenames.append(os.path.join(filedir,filename))\n",
    "\n",
    "time_start = time.time()\n",
    "\n",
    "for i in range(len(filenames)):\n",
    "    tep_shapelet = np.load(filenames[i]) #(num_shapelet, series_length, num_var) \n",
    "    tep_shapelet_wavelet = add_window_wavelet(tep_shapelet, time_step, level)  #[num_shapelet, (series_length - window_size), (num_var*(num_level+1)*3) ]\n",
    "    tep_shapelet_wavelet = tep_shapelet_wavelet.reshape([-1, num_var*(level+1)*3 ])\n",
    "    label = np.ones(len(tep_shapelet_wavelet))*i\n",
    "    print(tep_shapelet_wavelet.shape)\n",
    "    \n",
    "    if i == 0: \n",
    "        feature_val = tep_shapelet_wavelet\n",
    "        label_val = label\n",
    "    else: \n",
    "        feature_val = np.concatenate((feature_val, tep_shapelet_wavelet), 0)\n",
    "        label_val = np.concatenate((label_val, label), 0)\n",
    "    \n",
    "print(feature_val.shape)\n",
    "print(label_val.shape)\n",
    "time_end = time.time()\n",
    "print('time cost',time_end-time_start,'s')"
   ]
  },
  {
   "cell_type": "code",
   "execution_count": 13,
   "id": "3e3f2a47",
   "metadata": {},
   "outputs": [],
   "source": [
    "val_x = feature_val\n",
    "val_y = label_val\n",
    "\n",
    "np.save(folder + 'val_x', val_x) \n",
    "np.save(folder + 'val_y', val_y) "
   ]
  },
  {
   "cell_type": "markdown",
   "id": "4a5fe4f2",
   "metadata": {},
   "source": [
    "# Test set"
   ]
  },
  {
   "cell_type": "code",
   "execution_count": 14,
   "id": "c8d209b3",
   "metadata": {
    "scrolled": true
   },
   "outputs": [
    {
     "name": "stdout",
     "output_type": "stream",
     "text": [
      "故障類別數:  20\n",
      "['TEP_shapelet_preprocess_TestSet_AllFault_win225-2\\\\test_selected_tep_fault00.npy', 'TEP_shapelet_preprocess_TestSet_AllFault_win225-2\\\\test_selected_tep_fault01.npy', 'TEP_shapelet_preprocess_TestSet_AllFault_win225-2\\\\test_selected_tep_fault02.npy', 'TEP_shapelet_preprocess_TestSet_AllFault_win225-2\\\\test_selected_tep_fault03.npy', 'TEP_shapelet_preprocess_TestSet_AllFault_win225-2\\\\test_selected_tep_fault04.npy', 'TEP_shapelet_preprocess_TestSet_AllFault_win225-2\\\\test_selected_tep_fault05.npy', 'TEP_shapelet_preprocess_TestSet_AllFault_win225-2\\\\test_selected_tep_fault06.npy', 'TEP_shapelet_preprocess_TestSet_AllFault_win225-2\\\\test_selected_tep_fault07.npy', 'TEP_shapelet_preprocess_TestSet_AllFault_win225-2\\\\test_selected_tep_fault08.npy', 'TEP_shapelet_preprocess_TestSet_AllFault_win225-2\\\\test_selected_tep_fault09.npy', 'TEP_shapelet_preprocess_TestSet_AllFault_win225-2\\\\test_selected_tep_fault10.npy', 'TEP_shapelet_preprocess_TestSet_AllFault_win225-2\\\\test_selected_tep_fault11.npy', 'TEP_shapelet_preprocess_TestSet_AllFault_win225-2\\\\test_selected_tep_fault12.npy', 'TEP_shapelet_preprocess_TestSet_AllFault_win225-2\\\\test_selected_tep_fault13.npy', 'TEP_shapelet_preprocess_TestSet_AllFault_win225-2\\\\test_selected_tep_fault14.npy', 'TEP_shapelet_preprocess_TestSet_AllFault_win225-2\\\\test_selected_tep_fault15.npy', 'TEP_shapelet_preprocess_TestSet_AllFault_win225-2\\\\test_selected_tep_fault16.npy', 'TEP_shapelet_preprocess_TestSet_AllFault_win225-2\\\\test_selected_tep_fault17.npy', 'TEP_shapelet_preprocess_TestSet_AllFault_win225-2\\\\test_selected_tep_fault18.npy', 'TEP_shapelet_preprocess_TestSet_AllFault_win225-2\\\\test_selected_tep_fault19.npy']\n",
      "(255, 1560)\n",
      "(178, 1560)\n",
      "(207, 1560)\n",
      "(351, 1560)\n",
      "(235, 1560)\n",
      "(247, 1560)\n",
      "(180, 1560)\n",
      "(136, 1560)\n",
      "(157, 1560)\n",
      "(288, 1560)\n",
      "(143, 1560)\n",
      "(307, 1560)\n",
      "(196, 1560)\n",
      "(238, 1560)\n",
      "(223, 1560)\n",
      "(264, 1560)\n",
      "(325, 1560)\n",
      "(199, 1560)\n",
      "(327, 1560)\n",
      "(241, 1560)\n",
      "(4697, 1560)\n",
      "(4697,)\n",
      "time cost 447.1796429157257 s\n"
     ]
    }
   ],
   "source": [
    "filedir = \"TEP_shapelet_preprocess_TestSet_AllFault_win225-2\"\n",
    "filenames = []\n",
    "\n",
    "for filename in os.listdir(filedir):\n",
    "    filenames.append(os.path.join(filedir,filename))\n",
    "\n",
    "time_start = time.time()\n",
    "\n",
    "for i in range(len(filenames)):\n",
    "    tep_shapelet = np.load(filenames[i]) #(num_shapelet, series_length, num_var) \n",
    "    tep_shapelet_wavelet = add_window_wavelet(tep_shapelet, time_step, level)  #[num_shapelet, (series_length - window_size), (num_var*(num_level+1)*3) ]\n",
    "    tep_shapelet_wavelet = tep_shapelet_wavelet.reshape([-1, num_var*(level+1)*3 ])\n",
    "    label = np.ones(len(tep_shapelet_wavelet))*i\n",
    "    print(tep_shapelet_wavelet.shape)\n",
    "    \n",
    "    if i == 0: \n",
    "        feature_test = tep_shapelet_wavelet\n",
    "        label_test = label\n",
    "    else: \n",
    "        feature_test = np.concatenate((feature_test, tep_shapelet_wavelet), 0)\n",
    "        label_test = np.concatenate((label_test, label), 0)\n",
    "    \n",
    "print(feature_test.shape)\n",
    "print(label_test.shape)\n",
    "time_end = time.time()\n",
    "print('time cost',time_end-time_start,'s')"
   ]
  },
  {
   "cell_type": "code",
   "execution_count": 15,
   "id": "a86c5617",
   "metadata": {},
   "outputs": [],
   "source": [
    "test_fault_x = feature_test\n",
    "test_fault_y = label_test\n",
    "\n",
    "np.save(folder + 'test_fault_x', test_fault_x) \n",
    "np.save(folder + 'test_fault_y', test_fault_y) "
   ]
  },
  {
   "cell_type": "code",
   "execution_count": 18,
   "id": "fa00aa17",
   "metadata": {},
   "outputs": [
    {
     "name": "stderr",
     "output_type": "stream",
     "text": [
      "C:\\Users\\WIN10\\anaconda3\\envs\\tf1.12\\lib\\site-packages\\ipykernel_launcher.py:6: RuntimeWarning: invalid value encountered in true_divide\n",
      "  \n",
      "C:\\Users\\WIN10\\anaconda3\\envs\\tf1.12\\lib\\site-packages\\ipykernel_launcher.py:3: RuntimeWarning: invalid value encountered in true_divide\n",
      "  This is separate from the ipykernel package so we can avoid doing imports until\n",
      "C:\\Users\\WIN10\\anaconda3\\envs\\tf1.12\\lib\\site-packages\\ipykernel_launcher.py:4: RuntimeWarning: invalid value encountered in true_divide\n",
      "  after removing the cwd from sys.path.\n"
     ]
    }
   ],
   "source": [
    "train_x, data_mean , data_std = normalization_1(train_x)\n",
    "val_x = (val_x - data_mean)/data_std\n",
    "test_fault_x = (test_fault_x - data_mean)/data_std"
   ]
  },
  {
   "cell_type": "code",
   "execution_count": 25,
   "id": "8677f0ab",
   "metadata": {},
   "outputs": [],
   "source": [
    "dtrain = xgb.DMatrix(train_x, train_y)\n",
    "dval = xgb.DMatrix(val_x, val_y)\n",
    "dtest_fault = xgb.DMatrix(test_fault_x, test_fault_y)"
   ]
  },
  {
   "cell_type": "code",
   "execution_count": 36,
   "id": "700f9ff6",
   "metadata": {
    "scrolled": true
   },
   "outputs": [
    {
     "name": "stdout",
     "output_type": "stream",
     "text": [
      "[0]\ttrain-merror:0.02787\tvalid-merror:0.12319\ttest_fault-merror:0.19481\n",
      "[20]\ttrain-merror:0.00546\tvalid-merror:0.12360\ttest_fault-merror:0.19374\n",
      "[40]\ttrain-merror:0.00546\tvalid-merror:0.13082\ttest_fault-merror:0.19204\n",
      "[60]\ttrain-merror:0.00460\tvalid-merror:0.12640\ttest_fault-merror:0.17224\n",
      "[80]\ttrain-merror:0.00388\tvalid-merror:0.12400\ttest_fault-merror:0.16415\n",
      "[100]\ttrain-merror:0.00359\tvalid-merror:0.12520\ttest_fault-merror:0.14179\n",
      "[120]\ttrain-merror:0.00259\tvalid-merror:0.11758\ttest_fault-merror:0.13839\n",
      "[140]\ttrain-merror:0.00230\tvalid-merror:0.11998\ttest_fault-merror:0.13455\n",
      "[160]\ttrain-merror:0.00129\tvalid-merror:0.11838\ttest_fault-merror:0.13030\n",
      "[180]\ttrain-merror:0.00129\tvalid-merror:0.11838\ttest_fault-merror:0.12944\n",
      "[200]\ttrain-merror:0.00086\tvalid-merror:0.11677\ttest_fault-merror:0.12284\n",
      "[220]\ttrain-merror:0.00086\tvalid-merror:0.11718\ttest_fault-merror:0.11731\n",
      "[240]\ttrain-merror:0.00072\tvalid-merror:0.11758\ttest_fault-merror:0.11518\n",
      "[260]\ttrain-merror:0.00057\tvalid-merror:0.11637\ttest_fault-merror:0.11390\n",
      "[280]\ttrain-merror:0.00057\tvalid-merror:0.11557\ttest_fault-merror:0.11199\n",
      "[300]\ttrain-merror:0.00043\tvalid-merror:0.11597\ttest_fault-merror:0.11071\n",
      "[320]\ttrain-merror:0.00043\tvalid-merror:0.11637\ttest_fault-merror:0.10986\n",
      "[340]\ttrain-merror:0.00043\tvalid-merror:0.11637\ttest_fault-merror:0.10709\n",
      "[360]\ttrain-merror:0.00043\tvalid-merror:0.11437\ttest_fault-merror:0.10496\n",
      "[380]\ttrain-merror:0.00029\tvalid-merror:0.11477\ttest_fault-merror:0.10347\n",
      "[400]\ttrain-merror:0.00029\tvalid-merror:0.11477\ttest_fault-merror:0.10241\n",
      "[420]\ttrain-merror:0.00014\tvalid-merror:0.11477\ttest_fault-merror:0.10155\n",
      "[440]\ttrain-merror:0.00014\tvalid-merror:0.11316\ttest_fault-merror:0.10155\n",
      "[460]\ttrain-merror:0.00014\tvalid-merror:0.11316\ttest_fault-merror:0.10028\n",
      "[480]\ttrain-merror:0.00014\tvalid-merror:0.11276\ttest_fault-merror:0.09900\n",
      "[500]\ttrain-merror:0.00014\tvalid-merror:0.11156\ttest_fault-merror:0.09879\n",
      "[520]\ttrain-merror:0.00014\tvalid-merror:0.11156\ttest_fault-merror:0.09793\n",
      "[540]\ttrain-merror:0.00014\tvalid-merror:0.11075\ttest_fault-merror:0.09645\n",
      "[560]\ttrain-merror:0.00014\tvalid-merror:0.11075\ttest_fault-merror:0.09495\n",
      "[580]\ttrain-merror:0.00014\tvalid-merror:0.11035\ttest_fault-merror:0.09432\n",
      "[600]\ttrain-merror:0.00014\tvalid-merror:0.10915\ttest_fault-merror:0.09389\n",
      "[620]\ttrain-merror:0.00014\tvalid-merror:0.10875\ttest_fault-merror:0.09325\n",
      "[640]\ttrain-merror:0.00014\tvalid-merror:0.10835\ttest_fault-merror:0.09368\n",
      "[660]\ttrain-merror:0.00014\tvalid-merror:0.10835\ttest_fault-merror:0.09368\n",
      "[680]\ttrain-merror:0.00014\tvalid-merror:0.10794\ttest_fault-merror:0.09261\n",
      "[700]\ttrain-merror:0.00014\tvalid-merror:0.10674\ttest_fault-merror:0.09176\n",
      "[720]\ttrain-merror:0.00014\tvalid-merror:0.10594\ttest_fault-merror:0.09176\n",
      "[740]\ttrain-merror:0.00014\tvalid-merror:0.10594\ttest_fault-merror:0.09133\n",
      "[760]\ttrain-merror:0.00014\tvalid-merror:0.10594\ttest_fault-merror:0.09048\n",
      "[780]\ttrain-merror:0.00000\tvalid-merror:0.10554\ttest_fault-merror:0.08857\n",
      "[800]\ttrain-merror:0.00000\tvalid-merror:0.10473\ttest_fault-merror:0.08899\n",
      "[820]\ttrain-merror:0.00000\tvalid-merror:0.10473\ttest_fault-merror:0.08814\n",
      "[840]\ttrain-merror:0.00000\tvalid-merror:0.10433\ttest_fault-merror:0.08814\n",
      "[860]\ttrain-merror:0.00000\tvalid-merror:0.10353\ttest_fault-merror:0.08814\n",
      "[880]\ttrain-merror:0.00000\tvalid-merror:0.10353\ttest_fault-merror:0.08772\n",
      "[900]\ttrain-merror:0.00000\tvalid-merror:0.10353\ttest_fault-merror:0.08750\n",
      "[920]\ttrain-merror:0.00000\tvalid-merror:0.10313\ttest_fault-merror:0.08729\n",
      "[940]\ttrain-merror:0.00000\tvalid-merror:0.10313\ttest_fault-merror:0.08622\n",
      "[960]\ttrain-merror:0.00000\tvalid-merror:0.10233\ttest_fault-merror:0.08580\n",
      "[980]\ttrain-merror:0.00000\tvalid-merror:0.10193\ttest_fault-merror:0.08559\n",
      "[1000]\ttrain-merror:0.00000\tvalid-merror:0.10193\ttest_fault-merror:0.08537\n",
      "[1020]\ttrain-merror:0.00000\tvalid-merror:0.10193\ttest_fault-merror:0.08537\n",
      "[1040]\ttrain-merror:0.00000\tvalid-merror:0.10193\ttest_fault-merror:0.08474\n",
      "[1060]\ttrain-merror:0.00000\tvalid-merror:0.10193\ttest_fault-merror:0.08431\n",
      "[1080]\ttrain-merror:0.00000\tvalid-merror:0.10193\ttest_fault-merror:0.08410\n",
      "[1100]\ttrain-merror:0.00000\tvalid-merror:0.10153\ttest_fault-merror:0.08346\n",
      "[1120]\ttrain-merror:0.00000\tvalid-merror:0.10112\ttest_fault-merror:0.08324\n",
      "[1140]\ttrain-merror:0.00000\tvalid-merror:0.10072\ttest_fault-merror:0.08324\n",
      "[1160]\ttrain-merror:0.00000\tvalid-merror:0.10072\ttest_fault-merror:0.08261\n",
      "[1180]\ttrain-merror:0.00000\tvalid-merror:0.10072\ttest_fault-merror:0.08261\n",
      "[1200]\ttrain-merror:0.00000\tvalid-merror:0.10072\ttest_fault-merror:0.08218\n",
      "[1220]\ttrain-merror:0.00000\tvalid-merror:0.10032\ttest_fault-merror:0.08261\n",
      "[1240]\ttrain-merror:0.00000\tvalid-merror:0.10032\ttest_fault-merror:0.08303\n",
      "[1260]\ttrain-merror:0.00000\tvalid-merror:0.10032\ttest_fault-merror:0.08218\n",
      "[1280]\ttrain-merror:0.00000\tvalid-merror:0.10032\ttest_fault-merror:0.08133\n",
      "[1300]\ttrain-merror:0.00000\tvalid-merror:0.10032\ttest_fault-merror:0.08112\n",
      "[1320]\ttrain-merror:0.00000\tvalid-merror:0.09992\ttest_fault-merror:0.08048\n",
      "[1340]\ttrain-merror:0.00000\tvalid-merror:0.09992\ttest_fault-merror:0.08069\n",
      "[1360]\ttrain-merror:0.00000\tvalid-merror:0.09992\ttest_fault-merror:0.08069\n",
      "[1380]\ttrain-merror:0.00000\tvalid-merror:0.09992\ttest_fault-merror:0.08090\n",
      "[1400]\ttrain-merror:0.00000\tvalid-merror:0.09952\ttest_fault-merror:0.08090\n",
      "[1420]\ttrain-merror:0.00000\tvalid-merror:0.09992\ttest_fault-merror:0.08175\n",
      "[1440]\ttrain-merror:0.00000\tvalid-merror:0.09952\ttest_fault-merror:0.08197\n",
      "[1460]\ttrain-merror:0.00000\tvalid-merror:0.09912\ttest_fault-merror:0.08197\n",
      "[1480]\ttrain-merror:0.00000\tvalid-merror:0.09872\ttest_fault-merror:0.08197\n",
      "[1500]\ttrain-merror:0.00000\tvalid-merror:0.09872\ttest_fault-merror:0.08197\n",
      "[1506]\ttrain-merror:0.00000\tvalid-merror:0.09872\ttest_fault-merror:0.08197\n",
      "training finish\n"
     ]
    }
   ],
   "source": [
    "params = {\n",
    "'objective': 'multi:softprob',\n",
    "'num_class': len(filenames),\n",
    "'seed': 0,\n",
    "'gamma': 0,\n",
    "'max_depth': 2, #10\n",
    "# 'random_state': 0,\n",
    "'subsample': 0.5,\n",
    "'min_child_weight': 2,\n",
    "'lambda': 2,\n",
    "'grow_policy': 'lossguide',\n",
    "'eta': 0.007,\n",
    "'eval_metric': ['merror'],\n",
    "}\n",
    "\n",
    "model = xgb.train(params, dtrain, \n",
    "          num_boost_round = 4000, \n",
    "          verbose_eval = 20, \n",
    "          early_stopping_rounds = 200, \n",
    "          evals=[(dtrain, 'train') , (dval, 'valid'), (dtest_fault, 'test_fault')],\n",
    "          )\n",
    "\n",
    "print('training finish')"
   ]
  },
  {
   "cell_type": "code",
   "execution_count": 37,
   "id": "b204b4e9",
   "metadata": {
    "scrolled": true
   },
   "outputs": [
    {
     "name": "stdout",
     "output_type": "stream",
     "text": [
      "Accuracy: 90.16854%\n",
      "Recall: 0.8907\n",
      "F1-score: 0.8718\n",
      "Precesion: 0.8671\n",
      "混淆矩阵:\n",
      "[[103   0   0   0   0   0   0   0   0   0   0   0   0   0   0   0   0   0\n",
      "    0   0]\n",
      " [  0  83   0   0   0   0   0   0   0   0   0   0   0   0   0   0   0   0\n",
      "    0   0]\n",
      " [  0   0 124   0   0   0   0   0   4   0   0   0   0  33   0   0   0   0\n",
      "    0   0]\n",
      " [  0   0   0 142   0   0   0   0   0   0   0   0   0   0   0   0   0   0\n",
      "    0   0]\n",
      " [  0   0   0   0 110   0   0   0   0   0   0   0   0   0   0   0   0   0\n",
      "    0   0]\n",
      " [  0   0   0   0   0 174   0   0   0   0   0   0   0   0   0   0   0   0\n",
      "    0   0]\n",
      " [  0   0   0   0   0   0 105   0   0   0   0   0   0   0   0   0   0   0\n",
      "    0   0]\n",
      " [  0   0   6   0   0   0   0 122   3   0   0   0   0   0   0   0   0   0\n",
      "    0   0]\n",
      " [  0   0   0   0   0   0   0   0 111   0   0   0   0   0   0   0   0   0\n",
      "    0   0]\n",
      " [  0   0   0   0   0   0   0   0   0 119   0   0   0   0   0   0   0   0\n",
      "    0   0]\n",
      " [  0   0   0   0   0   0   0   0   0   0 135   0   0   0   0   0   0   0\n",
      "    0   0]\n",
      " [  0   0   2   0   0   0   0   0  91   0   0   0   0   0   2   0   0   0\n",
      "    0   0]\n",
      " [  0   0   0   0   0   0   0   0   0   0   0   0 118   0   0   0   0   0\n",
      "    0   0]\n",
      " [  0   0  88   0   0   0   0   0  15   0   0   0   0  14   0   0   0   0\n",
      "    0   0]\n",
      " [  0   0   0   0   0   0   0   0   0   0   0   0   0   0 150   0   0   0\n",
      "    0   0]\n",
      " [  0   0   0   0   0   0   0   0   0   0   0   0   0   0   0 143   0   0\n",
      "    0   0]\n",
      " [  0   0   0   0   0   0   0   0   0   0   0   0   0   0   0   0 120   0\n",
      "    0   0]\n",
      " [  0   0   0   0   0   0   0   0   0   0   0   0   0   0   0   0   0 149\n",
      "    0   0]\n",
      " [  0   0   0   0   0   0   0   0   1   0   0   0   0   0   0   0   0   0\n",
      "  124   0]\n",
      " [  0   0   0   0   0   0   0   0   0   0   0   0   0   0   0   0   0   0\n",
      "    0 101]]\n"
     ]
    },
    {
     "name": "stderr",
     "output_type": "stream",
     "text": [
      "C:\\Users\\WIN10\\anaconda3\\envs\\tf1.12\\lib\\site-packages\\sklearn\\metrics\\_classification.py:1248: UndefinedMetricWarning: Precision is ill-defined and being set to 0.0 in labels with no predicted samples. Use `zero_division` parameter to control this behavior.\n",
      "  _warn_prf(average, modifier, msg_start, len(result))\n"
     ]
    }
   ],
   "source": [
    "y_pred = model.predict(xgb.DMatrix(val_x))\n",
    "yprob = np.argmax(y_pred, axis=1)  # return the index of the biggest pro\n",
    "\n",
    "predictions = [round(value) for value in yprob]\n",
    "\n",
    "# evaluate predictions\n",
    "accuracy = accuracy_score(val_y, predictions)\n",
    "print(\"Accuracy: %.5f%%\" % (accuracy * 100.0))\n",
    "print('Recall: %.4f' % metrics.recall_score(val_y, predictions, average='macro'))\n",
    "print('F1-score: %.4f' % metrics.f1_score(val_y, predictions, average='macro'))\n",
    "print('Precesion: %.4f' % metrics.precision_score(val_y, predictions, average='macro'))\n",
    "print(\"confused matrix:\")\n",
    "print(confusion_matrix(val_y, predictions))\n",
    "df = pd.DataFrame(confusion_matrix(val_y, predictions))\n",
    "df.to_csv('./TEP_xgboost_wavelet_shapelet_wavelet_val.csv')"
   ]
  },
  {
   "cell_type": "code",
   "execution_count": 38,
   "id": "63f3ac83",
   "metadata": {
    "scrolled": true
   },
   "outputs": [
    {
     "name": "stdout",
     "output_type": "stream",
     "text": [
      "Accuracy: 91.80328%\n",
      "Recall: 0.9301\n",
      "F1-score: 0.9014\n",
      "Precesion: 0.9271\n",
      "混淆矩阵:\n",
      "[[255   0   0   0   0   0   0   0   0   0   0   0   0   0   0   0   0   0\n",
      "    0   0]\n",
      " [  0 178   0   0   0   0   0   0   0   0   0   0   0   0   0   0   0   0\n",
      "    0   0]\n",
      " [  0   0 183   0   0   0   0   0   0   0   0   0   0  23   0   0   0   0\n",
      "    0   1]\n",
      " [  0   0   4 347   0   0   0   0   0   0   0   0   0   0   0   0   0   0\n",
      "    0   0]\n",
      " [  0   0   0   0 235   0   0   0   0   0   0   0   0   0   0   0   0   0\n",
      "    0   0]\n",
      " [  0   0   0   0   0 247   0   0   0   0   0   0   0   0   0   0   0   0\n",
      "    0   0]\n",
      " [  0   0   0   0   0   0 180   0   0   0   0   0   0   0   0   0   0   0\n",
      "    0   0]\n",
      " [  0   0   0   0   0   0   0 136   0   0   0   0   0   0   0   0   0   0\n",
      "    0   0]\n",
      " [  0   0   6   0   0   0   0   0 140   0   0   0   0   0  11   0   0   0\n",
      "    0   0]\n",
      " [  0   0   0   0   0   0   0   0   0 288   0   0   0   0   0   0   0   0\n",
      "    0   0]\n",
      " [  0   0   0   0   0   0   0   0   0   0 143   0   0   0   0   0   0   0\n",
      "    0   0]\n",
      " [  0   0   4   0   0   0   0 148  89   0   0  21   0  37   0   0   8   0\n",
      "    0   0]\n",
      " [  0   0   0   0   0   0   0   0   0   0   0   0 196   0   0   0   0   0\n",
      "    0   0]\n",
      " [  0   0  21   0   0   0   0   0  14   0   0   0   0 203   0   0   0   0\n",
      "    0   0]\n",
      " [  0   0   1   0   0   0   0   0  17   0   0   0   0   0 205   0   0   0\n",
      "    0   0]\n",
      " [  0   0   0   0   0   0   0   0   0   0   0   0   0   0   0 264   0   0\n",
      "    0   0]\n",
      " [  0   0   0   0   0   0   0   0   0   0   0   0   0   0   0   0 325   0\n",
      "    0   0]\n",
      " [  0   0   0   0   0   0   0   0   0   0   0   0   0   0   0   0   0 199\n",
      "    0   0]\n",
      " [  0   0   0   0   0   0   0   0   0   0   0   0   0   1   0   0   0   0\n",
      "  326   0]\n",
      " [  0   0   0   0   0   0   0   0   0   0   0   0   0   0   0   0   0   0\n",
      "    0 241]]\n"
     ]
    }
   ],
   "source": [
    "y_pred = model.predict(xgb.DMatrix(test_fault_x))\n",
    "yprob = np.argmax(y_pred, axis=1)  # return the index of the biggest pro\n",
    "\n",
    "predictions = [round(value) for value in yprob]\n",
    "\n",
    "# evaluate predictions\n",
    "accuracy = accuracy_score(test_fault_y, predictions)\n",
    "print(\"Accuracy: %.5f%%\" % (accuracy * 100.0))\n",
    "print('Recall: %.4f' % metrics.recall_score(test_fault_y, predictions, average='macro'))\n",
    "print('F1-score: %.4f' % metrics.f1_score(test_fault_y, predictions, average='macro'))\n",
    "print('Precesion: %.4f' % metrics.precision_score(test_fault_y, predictions, average='macro'))\n",
    "print(\"confused matrix:\")\n",
    "print(confusion_matrix(test_fault_y, predictions))\n",
    "df = pd.DataFrame(confusion_matrix(test_fault_y, predictions))\n",
    "df.to_csv('./TEP_xgboost_wavelet_shapelet_wavelet_test.csv')"
   ]
  },
  {
   "cell_type": "code",
   "execution_count": 39,
   "id": "868e7f7c",
   "metadata": {},
   "outputs": [
    {
     "name": "stdout",
     "output_type": "stream",
     "text": [
      "精确率:1:100.0%\n",
      "精确率:2:100.0%\n",
      "精确率:3:88.41%\n",
      "精确率:4:98.86%\n",
      "精确率:5:100.0%\n",
      "精确率:6:100.0%\n",
      "精确率:7:100.0%\n",
      "精确率:8:100.0%\n",
      "精确率:10:89.17%\n",
      "精确率:11:100.0%\n",
      "精确率:12:100.0%\n",
      "精确率:13:6.84%\n",
      "精确率:14:100.0%\n",
      "精确率:15:85.29%\n",
      "精确率:16:91.93%\n",
      "精确率:17:100.0%\n",
      "精确率:18:100.0%\n",
      "精确率:19:100.0%\n",
      "精确率:20:99.69%\n",
      "精确率:21:100.0%\n"
     ]
    }
   ],
   "source": [
    "classes=['1','2','3','4','5','6','7','8','10','11','12','13','14','15','16','17','18','19','20','21']\n",
    "\n",
    "\n",
    "def calculae_lable_prediction(confMatrix):\n",
    "    l=len(confMatrix)\n",
    "    for i in range(l):\n",
    "        label_total_sum = confMatrix.sum(axis=1)[i]\n",
    "        label_correct_sum=confMatrix[i][i]\n",
    "        prediction = round(100 * float(label_correct_sum) / float(label_total_sum), 2)\n",
    "        print('precision rate:'+classes[i]+\":\"+str(prediction)+'%')\n",
    "        \n",
    "calculae_lable_prediction(confusion_matrix(test_fault_y, predictions))"
   ]
  },
  {
   "cell_type": "code",
   "execution_count": 40,
   "id": "7563f8ca",
   "metadata": {},
   "outputs": [
    {
     "name": "stdout",
     "output_type": "stream",
     "text": [
      "召回率:1:100.0%\n",
      "召回率:2:100.0%\n",
      "召回率:3:83.56%\n",
      "召回率:4:100.0%\n",
      "召回率:5:100.0%\n",
      "召回率:6:100.0%\n",
      "召回率:7:100.0%\n",
      "召回率:8:47.89%\n",
      "召回率:10:53.85%\n",
      "召回率:11:100.0%\n",
      "召回率:12:100.0%\n",
      "召回率:13:100.0%\n",
      "召回率:14:100.0%\n",
      "召回率:15:76.89%\n",
      "召回率:16:94.91%\n",
      "召回率:17:100.0%\n",
      "召回率:18:97.6%\n",
      "召回率:19:100.0%\n",
      "召回率:20:100.0%\n",
      "召回率:21:99.59%\n"
     ]
    }
   ],
   "source": [
    "\n",
    "def calculate_label_recall(confMatrix):\n",
    "    l = len(confMatrix)\n",
    "    for i in range(l):\n",
    "        label_total_sum = confMatrix.sum(axis=0)[i]\n",
    "        label_correct_sum = confMatrix[i][i]\n",
    "        prediction = round(100 * float(label_correct_sum) / float(label_total_sum), 2)\n",
    "        print('recall rate:'+classes[i] + \":\" + str(prediction) + '%')\n",
    "\n",
    "calculate_label_recall(confusion_matrix(test_fault_y, predictions))"
   ]
  },
  {
   "cell_type": "code",
   "execution_count": null,
   "id": "76886508",
   "metadata": {},
   "outputs": [],
   "source": []
  },
  {
   "cell_type": "code",
   "execution_count": null,
   "id": "fb8144f7",
   "metadata": {},
   "outputs": [],
   "source": []
  }
 ],
 "metadata": {
  "kernelspec": {
   "display_name": "tf1.12",
   "language": "python",
   "name": "tf1.12"
  },
  "language_info": {
   "codemirror_mode": {
    "name": "ipython",
    "version": 3
   },
   "file_extension": ".py",
   "mimetype": "text/x-python",
   "name": "python",
   "nbconvert_exporter": "python",
   "pygments_lexer": "ipython3",
   "version": "3.6.13"
  }
 },
 "nbformat": 4,
 "nbformat_minor": 5
}
